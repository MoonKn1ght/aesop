{
 "cells": [
  {
   "cell_type": "code",
   "execution_count": null,
   "metadata": {},
   "outputs": [],
   "source": [
    "from __future__ import print_function\n",
    "\n",
    "#%% import public modules\n",
    "import sys\n",
    "sys.path.append('..')\n",
    "\n",
    "import networkx as nx\n",
    "import itertools\n",
    "import os\n",
    "import random\n",
    "import time\n",
    "import matplotlib as mpl\n",
    "import matplotlib.pyplot as plt\n",
    "import seaborn as sns\n",
    "import autograd.numpy as np\n",
    "import copy \n",
    "\n",
    "import logging\n",
    "logging.getLogger().setLevel(logging.CRITICAL)\n",
    "\n",
    "#%% modules for interactivity\n",
    "from ipywidgets import interact, interactive, fixed, interact_manual\n",
    "from ipywidgets import GridspecLayout\n",
    "from ipywidgets import FloatSlider, BoundedFloatText\n",
    "\n",
    "#%% import custom ASOPE modules\n",
    "import config.config as configuration\n",
    "from lib.functions import scale_units\n",
    "\n",
    "from problems.example.evaluator import Evaluator\n",
    "from problems.example.evolver import Evolver\n",
    "from problems.example.graph import Graph\n",
    "from problems.example.assets.propagator import Propagator\n",
    "from problems.example.assets.functions import psd_, power_, fft_, ifft_\n",
    "\n",
    "from problems.example.evaluator_subclasses.evaluator_rfawg import RadioFrequencyWaveformGeneration\n",
    "from problems.example.evaluator_subclasses.evaluator_pulserep import PulseRepetition\n",
    "\n",
    "from problems.example.node_types_subclasses.inputs import PulsedLaser, ContinuousWaveLaser\n",
    "from problems.example.node_types_subclasses.outputs import MeasurementDevice\n",
    "from problems.example.node_types_subclasses.single_path import CorningFiber, PhaseModulator, WaveShaper, DelayLine, ProgrammableFilter\n",
    "from problems.example.node_types_subclasses.multi_path import VariablePowerSplitter"
   ]
  },
  {
   "cell_type": "markdown",
   "metadata": {},
   "source": [
    "The following cell is the main interactive plotting functions - they should not need changing. All parameters (unlocked parameters) are extracted and a continuous slider is made, which upper and lower limits, names, and step sizes according to the component model."
   ]
  },
  {
   "cell_type": "code",
   "execution_count": 7,
   "metadata": {},
   "outputs": [],
   "source": [
    "def run_interactive_propagation(**kwargs):\n",
    "    tmp_parameters = copy.deepcopy(attributes['parameters'])\n",
    "    for i, (parameter_id, parameter) in enumerate(zip(attributes['parameters_uuid'], kwargs.values())):\n",
    "        ind = attributes['parameters_uuid'].index(parameter_id)\n",
    "        tmp_parameters[ind] = parameter\n",
    "    graph.distribute_parameters_from_list(tmp_parameters, attributes['node_edge_index'], attributes['parameter_index'])\n",
    "\n",
    "    graph.propagate(propagator, save_transforms=True)\n",
    "    state = graph.measure_propagator(graph.get_output_node())\n",
    "\n",
    "    fig, axs = create_plot_window(propagator)\n",
    "    axs[0,0].plot(propagator.t, power_(state))\n",
    "    axs[0,1].plot(propagator.f, psd_(state, propagator.dt, propagator.df))\n",
    "\n",
    "    graph.visualize_transforms_dof(axs[1,0], propagator, dof='t', label_verbose=0)\n",
    "    graph.visualize_transforms_dof(axs[1,1], propagator, dof='f', label_verbose=0)\n",
    "\n",
    "    \n",
    "    plt.show()\n",
    "    return\n",
    "\n",
    "def setup_interactivity():\n",
    "    attributes_to_get = ['parameters', 'parameter_names', 'parameter_symbols',\n",
    "                         'lower_bounds', 'upper_bounds', 'step_sizes',\n",
    "                         'parameter_imprecisions','parameters_uuid']\n",
    "    attributes = graph.extract_attributes_to_list_experimental(attributes_to_get, get_location_indices=True)\n",
    "\n",
    "    grid_size = int(np.ceil(np.sqrt(len(attributes['parameters']))))\n",
    "    grid = GridspecLayout(grid_size, grid_size)\n",
    "    \n",
    "    sliders = {}\n",
    "    for i in range(len(attributes['parameters'])):\n",
    "        fs = FloatSlider(value=attributes['parameters'][i],\n",
    "                         min=attributes['lower_bounds'][i],\n",
    "                         max=attributes['upper_bounds'][i],\n",
    "                         step=attributes['step_sizes'][i] if attributes['step_sizes'][i] is not None else (attributes['upper_bounds'][i]-attributes['lower_bounds'][i])/100,\n",
    "                         description=attributes['parameter_names'][i],\n",
    "                         disabled=False,\n",
    "                         continuous_update=False,\n",
    "                         orientation='horizontal',\n",
    "                         readout=True,\n",
    "                         readout_format='.1f')\n",
    "        sliders[str(attributes['parameters_uuid'][i])] = fs\n",
    "\n",
    "    return sliders, attributes\n",
    "\n",
    "def create_plot_window(propagator):\n",
    "    fig, axs = plt.subplots(2,2, figsize=[12, 8], gridspec_kw={'wspace':0.4, 'hspace':0.4})\n",
    "\n",
    "    tlims, flims = [np.min(propagator.t), np.max(propagator.t)], [np.min(propagator.f), np.max(propagator.f)]\n",
    "\n",
    "    axs[0,0].set(xlabel='Time (s)', ylabel='AU', xlim=np.array(tlims)/tzoom)\n",
    "    axs[0,1].set(xlabel='Frequency (s)', ylabel='AU', xlim=np.array(flims)/fzoom)\n",
    " \n",
    "    axs[1,0].set(xlabel='Time (s)', ylabel='AU', xlim=np.array(tlims)/tzoom)\n",
    "    axs[1,1].set(xlabel='Frequency (s)', ylabel='AU', xlim=np.array(flims)/fzoom)\n",
    "    \n",
    "    return fig, axs"
   ]
  },
  {
   "cell_type": "code",
   "execution_count": 8,
   "metadata": {},
   "outputs": [
    {
     "name": "stdout",
     "output_type": "stream",
     "text": [
      "[]\n"
     ]
    },
    {
     "data": {
      "application/vnd.jupyter.widget-view+json": {
       "model_id": "21ff38ac4218481481f82517ef812bc5",
       "version_major": 2,
       "version_minor": 0
      },
      "text/plain": [
       "interactive(children=(FloatSlider(value=1.0, continuous_update=False, description='peak_power', max=2.0, reado…"
      ]
     },
     "metadata": {},
     "output_type": "display_data"
    }
   ],
   "source": [
    "## create optical system\n",
    "propagator = Propagator(window_t = 1e-9, n_samples = 2**14, central_wl=1.55e-6)\n",
    "\n",
    "nodes = {0: ContinuousWaveLaser(),\n",
    "         1: PhaseModulator(),\n",
    "         2: WaveShaper(),\n",
    "        -1: MeasurementDevice()}\n",
    "edges = [(0,1), (1,2), (2,-1)]\n",
    "\n",
    "graph = Graph(nodes, edges, propagate_on_edges = False)\n",
    "graph.assert_number_of_edges()\n",
    "\n",
    "tzoom, fzoom = 1, 50\n",
    "\n",
    "## set up interactivity\n",
    "sliders, attributes = setup_interactivity()\n",
    "\n",
    "## run interactivity\n",
    "manual = False\n",
    "if manual == True:\n",
    "    interact_manual(run_interactive_propagation, **sliders)\n",
    "else:\n",
    "    interact(run_interactive_propagation, **sliders)"
   ]
  },
  {
   "cell_type": "code",
   "execution_count": null,
   "metadata": {},
   "outputs": [],
   "source": []
  }
 ],
 "metadata": {
  "kernelspec": {
   "display_name": "Python 3",
   "language": "python",
   "name": "python3"
  },
  "language_info": {
   "codemirror_mode": {
    "name": "ipython",
    "version": 3
   },
   "file_extension": ".py",
   "mimetype": "text/x-python",
   "name": "python",
   "nbconvert_exporter": "python",
   "pygments_lexer": "ipython3",
   "version": "3.8.3"
  }
 },
 "nbformat": 4,
 "nbformat_minor": 2
}
