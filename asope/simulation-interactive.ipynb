{
 "cells": [
  {
   "cell_type": "code",
   "execution_count": 1,
   "metadata": {},
   "outputs": [],
   "source": [
    "from __future__ import print_function\n",
    "\n",
    "#%% import public modules\n",
    "import time\n",
    "import matplotlib.pyplot as plt\n",
    "import copy\n",
    "import autograd.numpy as np\n",
    "import scipy.io as sio\n",
    "import scipy.signal as sig\n",
    "\n",
    "#%% modules for interactivity\n",
    "from ipywidgets import interact, interactive, fixed, interact_manual\n",
    "import ipywidgets as widgets\n",
    "from ipywidgets import FloatSlider\n",
    "\n",
    "#%% import custom modules\n",
    "from assets.functions import FFT, IFFT, P, PSD, RFSpectrum\n",
    "from classes.environment import OpticalField, OpticalField_CW, OpticalField_Pulse, OpticalField_PPLN\n",
    "from classes.components import Fiber, PhaseModulator, WaveShaper, PowerSplitter, FrequencySplitter, DelayLine\n",
    "from classes.experiment import Experiment"
   ]
  },
  {
   "cell_type": "code",
   "execution_count": 2,
   "metadata": {},
   "outputs": [],
   "source": [
    "def plot_field(field, env, ax):\n",
    "    for axi in ax:\n",
    "        axi.cla()\n",
    "        \n",
    "    # calculate power in temporal & spectral domains & plots (normalized)\n",
    "    p0 = P(env.field0)\n",
    "    p = P(field) / max(p0)\n",
    "    p0 *= 1 / max(p0)\n",
    "\n",
    "    psd0 = PSD(env.field0, env.dt, env.df)\n",
    "    psd = PSD(field, env.dt, env.df) /max(psd0)\n",
    "    psd0 *= 1 / max(psd0)\n",
    "\n",
    "    ax[0].plot(env.t/1e-12, p, label='Field Out', alpha=0.5)\n",
    "    ax[0].plot(env.t/1e-12, p0, label='Field In', alpha=0.5)\n",
    "    ax[0].set(xlabel='Time (ps)', ylabel='AU')\n",
    "    ax[0].set(xlim=[-50, 10])\n",
    "#     ax[0].margins(x=-0.49, y=0.05)  \n",
    "\n",
    "    ax[1].plot(env.c0/(env.f + env.f0)/1e-6, psd, label='Field Out', alpha=0.5)\n",
    "    ax[1].plot(env.c0/(env.f + env.f0)/1e-6, psd0, label='Field In', alpha=0.5)\n",
    "\n",
    "    ax[1].set(xlabel=r'Wavelength ($\\mu$m)', ylabel='AU')\n",
    "#     ax[1].margins(x=-0.4, y=0.05)  \n",
    "    ax[1].set(xlim=[1.52, 1.58])\n",
    "    for axi in ax:\n",
    "        axi.legend()\n",
    "    plt.show()\n",
    "    \n",
    "def interactive_simulation(**kwargs):\n",
    "    at = exp.newattributes()\n",
    "    for i, (node, param, new_value) in enumerate(zip(nodes, params, kwargs.values())):\n",
    "        at[node][param] = new_value\n",
    "    print(at)\n",
    "    \n",
    "    exp.setattributes(at)\n",
    "    exp.inject_optical_field(env.field0)\n",
    "    exp.simulate(env)\n",
    "    field = exp.nodes[exp.measurement_nodes[0]]['output']\n",
    "    fig, ax = plt.subplots(2,1)\n",
    "\n",
    "    plot_field(field, env, ax)\n",
    "    return \n",
    "\n",
    "def setup_interactivity(exp):    \n",
    "    up, low, name, dsct = [], [], [], []\n",
    "    nodes, params = [], []\n",
    "    for node in exp.nodes():\n",
    "        for param in range(exp.nodes[node]['info'].N_PARAMETERS):\n",
    "            up.append(exp.nodes[node]['info'].UPPER[param])\n",
    "            low.append(exp.nodes[node]['info'].LOWER[param])\n",
    "            name.append(exp.nodes[node]['info'].AT_NAME[param])\n",
    "            dsct.append(exp.nodes[node]['info'].DSCRTVAL[param])\n",
    "            nodes.append(node)\n",
    "            params.append(param)\n",
    "    \n",
    "    kwargs = {}\n",
    "    for i in range(len(up)):\n",
    "        kwargs[name[i]] = FloatSlider(\n",
    "            value=up[i],\n",
    "            min=low[i],\n",
    "            max=up[i],\n",
    "            step=dsct[i],\n",
    "            description=name[i],\n",
    "            disabled=False,\n",
    "            continuous_update=False,\n",
    "            orientation='horizontal',\n",
    "            readout=False,\n",
    "            readout_format='.1f',\n",
    "        )\n",
    "    return kwargs, nodes, params, up, low, name, dsct"
   ]
  },
  {
   "cell_type": "code",
   "execution_count": 3,
   "metadata": {},
   "outputs": [
    {
     "data": {
      "application/vnd.jupyter.widget-view+json": {
       "model_id": "417e465fdd644a7fb8db4fde13408b53",
       "version_major": 2,
       "version_minor": 0
      },
      "text/plain": [
       "interactive(children=(FloatSlider(value=1.0, continuous_update=False, description='Delay 0', max=1.0, readout=…"
      ]
     },
     "metadata": {},
     "output_type": "display_data"
    }
   ],
   "source": [
    "manual = True\n",
    "\n",
    "env = OpticalField_PPLN(n_samples=2**16, window_t=2.0e-9, lambda0=1.55e-6, bandwidth=[1.53e-6, 1.57e-6])\n",
    "#env = OpticalField_CW(n_samples=2**14, window_t=10e-9, peak_power=1, lambda0=1.55e-6, normalize=False)\n",
    "\n",
    "# %% set-up the system\n",
    "components = {0: DelayLine()}\n",
    "adjacency = []\n",
    "\n",
    "# %% initialize the experiment, and perform all the pre-processing steps\n",
    "exp = Experiment()\n",
    "exp.buildexperiment(components, adjacency)\n",
    "exp.make_path()\n",
    "\n",
    "kwargs, nodes, params, up, low, name, dsct = setup_interactivity(exp)\n",
    "\n",
    "if manual == True:\n",
    "    interact_manual(interactive_simulation, **kwargs)\n",
    "else:\n",
    "    interact(interactive_simulation, **kwargs)"
   ]
  },
  {
   "cell_type": "code",
   "execution_count": null,
   "metadata": {},
   "outputs": [],
   "source": []
  },
  {
   "cell_type": "code",
   "execution_count": null,
   "metadata": {},
   "outputs": [],
   "source": []
  }
 ],
 "metadata": {
  "kernelspec": {
   "display_name": "Python 3",
   "language": "python",
   "name": "python3"
  },
  "language_info": {
   "codemirror_mode": {
    "name": "ipython",
    "version": 3
   },
   "file_extension": ".py",
   "mimetype": "text/x-python",
   "name": "python",
   "nbconvert_exporter": "python",
   "pygments_lexer": "ipython3",
   "version": "3.7.4"
  }
 },
 "nbformat": 4,
 "nbformat_minor": 2
}
